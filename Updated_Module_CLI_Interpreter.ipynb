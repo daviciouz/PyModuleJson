{
 "cells": [
  {
   "cell_type": "code",
   "execution_count": 171,
   "metadata": {},
   "outputs": [],
   "source": [
    "import csv\n",
    "import json\n",
    "import pandas as pd\n"
   ]
  },
  {
   "cell_type": "code",
   "execution_count": 172,
   "metadata": {},
   "outputs": [
    {
     "name": "stdout",
     "output_type": "stream",
     "text": [
      "[['Activity', 'StartTime', 'Duration', 'MovementSpeed'], ['Stir', '25:25.6', '2.1', '1.573'], ['Pour', '26:12.1', '1.4', '1.25'], ['Stir', '29:14.4', '2.7', '1.947'], ['Stir', '40:28.4', '3.1', '1.462'], ['Stir', '41:27.3', '5.3', '1.472'], ['Pour', '45:21.2', '1.1', '1.037']]\n"
     ]
    }
   ],
   "source": [
    "with open(\"/Users/user/Documents/workspace/Jupyter-Demo/Sample1.csv\", \"r\") as f1:\n",
    "    reader = csv.reader(f1)\n",
    "    csv_data = list(reader)\n",
    "\n",
    "print(csv_data)"
   ]
  },
  {
   "cell_type": "code",
   "execution_count": 173,
   "metadata": {},
   "outputs": [
    {
     "name": "stdout",
     "output_type": "stream",
     "text": [
      "{'Policy1': [{'action': 'Stir', 'duration': 2.0, 'movespeed': 0.1}, {'action': 'Pour', 'duration': 1.2, 'movespeed': 0.02}, {'action': 'Stir', 'duration': 1.0, 'movespeed': 0.124}, {'constraints': [{'maxduration': 5.0, 'enforceorder': 'TRUE'}]}]}\n"
     ]
    }
   ],
   "source": [
    "with open('/Users/user/Documents/workspace/Jupyter-Demo/policy2.json') as f2:\n",
    "    new_data = json.load(f2)\n",
    "    \n",
    "print(new_data)"
   ]
  },
  {
   "cell_type": "code",
   "execution_count": 174,
   "metadata": {},
   "outputs": [
    {
     "data": {
      "text/plain": [
       "[{'action': 'Stir', 'duration': 2.0, 'movespeed': 0.1},\n",
       " {'action': 'Pour', 'duration': 1.2, 'movespeed': 0.02},\n",
       " {'action': 'Stir', 'duration': 1.0, 'movespeed': 0.124},\n",
       " {'constraints': [{'enforceorder': 'TRUE', 'maxduration': 5.0}]}]"
      ]
     },
     "execution_count": 174,
     "metadata": {},
     "output_type": "execute_result"
    }
   ],
   "source": [
    "new_json = new_data['Policy1']\n",
    "json_data = list(new_json)\n",
    "json_data"
   ]
  },
  {
   "cell_type": "code",
   "execution_count": 175,
   "metadata": {},
   "outputs": [
    {
     "data": {
      "text/plain": [
       "{'action': 'Pour', 'duration': 1.2, 'movespeed': 0.02}"
      ]
     },
     "execution_count": 175,
     "metadata": {},
     "output_type": "execute_result"
    }
   ],
   "source": [
    "json_data[1]"
   ]
  },
  {
   "cell_type": "code",
   "execution_count": 176,
   "metadata": {},
   "outputs": [
    {
     "data": {
      "text/plain": [
       "{'action': 'Stir', 'duration': 2.0, 'movespeed': 0.1}"
      ]
     },
     "execution_count": 176,
     "metadata": {},
     "output_type": "execute_result"
    }
   ],
   "source": [
    "json_data[0]"
   ]
  },
  {
   "cell_type": "code",
   "execution_count": 177,
   "metadata": {},
   "outputs": [
    {
     "data": {
      "text/plain": [
       "[['Activity', 'StartTime', 'Duration', 'MovementSpeed'],\n",
       " ['Stir', '25:25.6', '2.1', '1.573'],\n",
       " ['Pour', '26:12.1', '1.4', '1.25'],\n",
       " ['Stir', '29:14.4', '2.7', '1.947'],\n",
       " ['Stir', '40:28.4', '3.1', '1.462'],\n",
       " ['Stir', '41:27.3', '5.3', '1.472'],\n",
       " ['Pour', '45:21.2', '1.1', '1.037']]"
      ]
     },
     "execution_count": 177,
     "metadata": {},
     "output_type": "execute_result"
    }
   ],
   "source": [
    "csv_data"
   ]
  },
  {
   "cell_type": "code",
   "execution_count": 178,
   "metadata": {},
   "outputs": [
    {
     "data": {
      "text/plain": [
       "['Activity', 'StartTime', 'Duration', 'MovementSpeed']"
      ]
     },
     "execution_count": 178,
     "metadata": {},
     "output_type": "execute_result"
    }
   ],
   "source": [
    "csv_data[0]"
   ]
  },
  {
   "cell_type": "markdown",
   "metadata": {},
   "source": [
    "**Rearrange data from csv by columns**"
   ]
  },
  {
   "cell_type": "code",
   "execution_count": 179,
   "metadata": {
    "collapsed": true
   },
   "outputs": [],
   "source": [
    "#For the activity column\n",
    "csv_activity_col = [row[0] for row in csv_data]\n",
    "\n",
    "#For the duration column\n",
    "csv_duration_col = [row[2] for row in csv_data]\n",
    "\n",
    "#For the movementspeed column\n",
    "csv_movespeed_col = [row[3] for row in csv_data]\n",
    "\n"
   ]
  },
  {
   "cell_type": "markdown",
   "metadata": {},
   "source": [
    "**Rerrange data from json by columns**"
   ]
  },
  {
   "cell_type": "code",
   "execution_count": 180,
   "metadata": {
    "collapsed": true
   },
   "outputs": [],
   "source": [
    "#For the activity column\n",
    "#json_activity_col = json_data[0]['action']\n",
    "\n",
    "#For the duration column\n",
    "#json_data[0]['duration']\n",
    "\n",
    "#For the movementspeed column\n",
    "#json_data[0]['movespeed']"
   ]
  },
  {
   "cell_type": "code",
   "execution_count": 181,
   "metadata": {},
   "outputs": [
    {
     "data": {
      "text/plain": [
       "'Stir'"
      ]
     },
     "execution_count": 181,
     "metadata": {},
     "output_type": "execute_result"
    }
   ],
   "source": [
    "json_data[0]['action']"
   ]
  },
  {
   "cell_type": "code",
   "execution_count": 182,
   "metadata": {},
   "outputs": [
    {
     "data": {
      "text/plain": [
       "2.0"
      ]
     },
     "execution_count": 182,
     "metadata": {},
     "output_type": "execute_result"
    }
   ],
   "source": [
    "json_data[0]['duration']"
   ]
  },
  {
   "cell_type": "code",
   "execution_count": 183,
   "metadata": {},
   "outputs": [
    {
     "data": {
      "text/plain": [
       "0.1"
      ]
     },
     "execution_count": 183,
     "metadata": {},
     "output_type": "execute_result"
    }
   ],
   "source": [
    "json_data[0]['movespeed']"
   ]
  },
  {
   "cell_type": "markdown",
   "metadata": {},
   "source": [
    "**Initializing Conditions for test**"
   ]
  },
  {
   "cell_type": "code",
   "execution_count": 184,
   "metadata": {
    "collapsed": true
   },
   "outputs": [],
   "source": [
    "action = False\n",
    "duration = False\n",
    "movement = False\n",
    "max_duration = False"
   ]
  },
  {
   "cell_type": "markdown",
   "metadata": {},
   "source": [
    "**Testing Condition for Sequence of Actions**"
   ]
  },
  {
   "cell_type": "code",
   "execution_count": 185,
   "metadata": {
    "collapsed": true
   },
   "outputs": [],
   "source": [
    "new_actions = []\n",
    "for item1 in csv_activity_col[1:]:\n",
    "    new_actions.append(item1)"
   ]
  },
  {
   "cell_type": "code",
   "execution_count": 186,
   "metadata": {},
   "outputs": [
    {
     "data": {
      "text/plain": [
       "'Stir'"
      ]
     },
     "execution_count": 186,
     "metadata": {},
     "output_type": "execute_result"
    }
   ],
   "source": [
    "new_actions[0]"
   ]
  },
  {
   "cell_type": "code",
   "execution_count": 187,
   "metadata": {
    "collapsed": true
   },
   "outputs": [],
   "source": [
    "if (new_actions[0] == json_data[0]['action'] and new_actions[1] == json_data[1]['action'] \n",
    "    and new_actions[2]  == json_data[2]['action']  ):\n",
    "    action = True"
   ]
  },
  {
   "cell_type": "markdown",
   "metadata": {},
   "source": [
    "**Testing Condition for Sequence of Durations**"
   ]
  },
  {
   "cell_type": "code",
   "execution_count": 188,
   "metadata": {},
   "outputs": [],
   "source": [
    "new_durations = []\n",
    "for item2 in csv_duration_col[1:]:\n",
    "\tnew_durations.append(float(item2))"
   ]
  },
  {
   "cell_type": "code",
   "execution_count": 189,
   "metadata": {
    "collapsed": true
   },
   "outputs": [],
   "source": [
    "\n",
    "if (new_durations[0] >= json_data[0]['duration']  and new_durations[1] >= json_data[1]['duration']\n",
    "    and new_durations[2] >= json_data[2]['duration']):\n",
    "\tduration = True"
   ]
  },
  {
   "cell_type": "code",
   "execution_count": 190,
   "metadata": {},
   "outputs": [
    {
     "data": {
      "text/plain": [
       "True"
      ]
     },
     "execution_count": 190,
     "metadata": {},
     "output_type": "execute_result"
    }
   ],
   "source": [
    "duration"
   ]
  },
  {
   "cell_type": "code",
   "execution_count": 191,
   "metadata": {},
   "outputs": [
    {
     "data": {
      "text/plain": [
       "1.4"
      ]
     },
     "execution_count": 191,
     "metadata": {},
     "output_type": "execute_result"
    }
   ],
   "source": [
    "new_durations[1]"
   ]
  },
  {
   "cell_type": "code",
   "execution_count": 192,
   "metadata": {},
   "outputs": [
    {
     "data": {
      "text/plain": [
       "1.2"
      ]
     },
     "execution_count": 192,
     "metadata": {},
     "output_type": "execute_result"
    }
   ],
   "source": [
    "json_data[1]['duration']"
   ]
  },
  {
   "cell_type": "markdown",
   "metadata": {},
   "source": [
    "**Testing Condition for Sequence of Movement Speed**"
   ]
  },
  {
   "cell_type": "code",
   "execution_count": 193,
   "metadata": {},
   "outputs": [
    {
     "data": {
      "text/plain": [
       "[1.573, 1.25, 1.947, 1.462, 1.472, 1.037]"
      ]
     },
     "execution_count": 193,
     "metadata": {},
     "output_type": "execute_result"
    }
   ],
   "source": [
    "new_movement = []\n",
    "for item3 in csv_movespeed_col[1:]:\n",
    "\tnew_movement.append(float(item3))\n",
    "new_movement"
   ]
  },
  {
   "cell_type": "code",
   "execution_count": 194,
   "metadata": {
    "collapsed": true
   },
   "outputs": [],
   "source": [
    "if (new_movement[0] >= json_data[0]['movespeed']  and new_movement[1] >= json_data[1]['movespeed']\n",
    "    and new_movement[2] >= json_data[2]['movespeed']):\n",
    "\tmovement = True"
   ]
  },
  {
   "cell_type": "code",
   "execution_count": 195,
   "metadata": {},
   "outputs": [
    {
     "data": {
      "text/plain": [
       "True"
      ]
     },
     "execution_count": 195,
     "metadata": {},
     "output_type": "execute_result"
    }
   ],
   "source": [
    "movement"
   ]
  },
  {
   "cell_type": "code",
   "execution_count": 196,
   "metadata": {},
   "outputs": [],
   "source": [
    "#Calculating maximum duration\n",
    "total_duration = [new_durations[0],new_durations[1],new_durations[3]]\n",
    "if (sum(total_duration) >= 5.00):\n",
    "    max_duration = True"
   ]
  },
  {
   "cell_type": "code",
   "execution_count": 197,
   "metadata": {},
   "outputs": [
    {
     "data": {
      "text/plain": [
       "True"
      ]
     },
     "execution_count": 197,
     "metadata": {},
     "output_type": "execute_result"
    }
   ],
   "source": [
    "max_duration"
   ]
  },
  {
   "cell_type": "markdown",
   "metadata": {},
   "source": [
    "**Combining the various conditions**"
   ]
  },
  {
   "cell_type": "code",
   "execution_count": 198,
   "metadata": {},
   "outputs": [
    {
     "name": "stdout",
     "output_type": "stream",
     "text": [
      "Output from classifier passed policy rules,Yes\n"
     ]
    }
   ],
   "source": [
    "if (action and duration and movement and max_duration):\n",
    "\tprint('Output from classifier passed policy rules,' 'Yes')\n",
    "else:\n",
    "\tprint('Output from classifier failed policy rules,' 'No')"
   ]
  },
  {
   "cell_type": "code",
   "execution_count": null,
   "metadata": {
    "collapsed": true
   },
   "outputs": [],
   "source": []
  }
 ],
 "metadata": {
  "kernelspec": {
   "display_name": "Python 3",
   "language": "python",
   "name": "python3"
  },
  "language_info": {
   "codemirror_mode": {
    "name": "ipython",
    "version": 3
   },
   "file_extension": ".py",
   "mimetype": "text/x-python",
   "name": "python",
   "nbconvert_exporter": "python",
   "pygments_lexer": "ipython3",
   "version": "3.6.2"
  }
 },
 "nbformat": 4,
 "nbformat_minor": 2
}
